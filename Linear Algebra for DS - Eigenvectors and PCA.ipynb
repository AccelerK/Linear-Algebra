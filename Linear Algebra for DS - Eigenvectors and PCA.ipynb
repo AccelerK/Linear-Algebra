{
 "cells": [
  {
   "cell_type": "markdown",
   "id": "e6ab9432-639a-4176-bf9a-4fbe59b325df",
   "metadata": {},
   "source": [
    "# Linear Algebra - application\n",
    "**Goal**: Apply knowledge of linear algebra and Python skills (NumPy, matplotlib, scipy) to address some real-world scenarios where linear algebra is actually used to solve and simplify problems.\n",
    "\n",
    "*Topics covered*:\n",
    "- linear transformations, eigenvalues and eigenvectors in a webpage navigation model"
   ]
  },
  {
   "cell_type": "markdown",
   "id": "1ac8f5f1-d2c4-4068-b27d-18fdaa001ba8",
   "metadata": {},
   "source": [
    "# Setting up the environment"
   ]
  },
  {
   "cell_type": "markdown",
   "id": "b5ae556d-554d-49bc-839b-5fbd77aa9295",
   "metadata": {},
   "source": [
    "## Instal Packages"
   ]
  },
  {
   "cell_type": "code",
   "execution_count": 62,
   "id": "a186f61c-fdf2-42aa-babe-d0d82d4ca7a4",
   "metadata": {},
   "outputs": [],
   "source": [
    "import numpy as np\n",
    "import matplotlib.pyplot as plt\n",
    "import scipy.sparse.linalg"
   ]
  },
  {
   "cell_type": "markdown",
   "id": "0d297929-0f96-4ba8-b5cc-627878186609",
   "metadata": {},
   "source": [
    "## - Application of Eigenvalues and Eigenvectors: Navigating Webpages"
   ]
  },
  {
   "cell_type": "markdown",
   "id": "8bd6a502-5b21-41cf-b346-957911da471f",
   "metadata": {},
   "source": [
    "### Exercise\n",
    "\n",
    "For the sake of the example, consider there are only a small number of pages $n=5$. (i.e. 5 x 5 matrix). \n",
    "\n",
    "Assumtion: \n",
    "- In this particular case, all elements on the main diagonal should be equal to $0$, since we are making the reasonable assumption that there is no existing link to the current page.\n",
    "- All the entries in each column must add to one. Here is an example of such a matrix for $n=5$:\n",
    "\n",
    "$$P=\n",
    "\\begin{bmatrix}\n",
    "0    & 0.75 & 0.35 & 0.25 & 0.85 \\\\\n",
    "0.15 & 0    & 0.35 & 0.25 & 0.05 \\\\\n",
    "0.15 & 0.15 & 0    & 0.25 & 0.05 \\\\\n",
    "0.15 & 0.05 & 0.05 & 0    & 0.05 \\\\\n",
    "0.55 & 0.05 & 0.25 & 0.25 & 0\n",
    "\\end{bmatrix}\\tag{5}\n",
    "$$\n",
    "\n",
    "**Action**:\n",
    "1. Define vector $X_0$, so the browser starts navigation at page $4$ ($X_0$ is a vector with a single entry equal to one, and all other entries equal to zero).\n",
    "2. Apply the transformation once: $X_1=PX_0$ to find a vector of the probabilities that the browser is at each of four pages.\n",
    "   "
   ]
  },
  {
   "cell_type": "code",
   "execution_count": 11,
   "id": "604e6763-801a-4340-83c3-fb43b1d71deb",
   "metadata": {},
   "outputs": [
    {
     "name": "stdout",
     "output_type": "stream",
     "text": [
      "Sum of columns of P: [1. 1. 1. 1. 1.]\n",
      "X1:\n",
      "[[0.25]\n",
      " [0.25]\n",
      " [0.25]\n",
      " [0.  ]\n",
      " [0.25]]\n"
     ]
    }
   ],
   "source": [
    "P = np.array([ \n",
    "    \n",
    "    [0, 0.75, 0.35, 0.25, 0.85], \n",
    "    [0.15, 0, 0.35, 0.25, 0.05], \n",
    "    [0.15, 0.15, 0, 0.25, 0.05], \n",
    "    [0.15, 0.05, 0.05, 0, 0.05], \n",
    "    [0.55, 0.05, 0.25, 0.25, 0]  \n",
    "]) \n",
    "\n",
    "X0 = np.array([[0],[0],[0],[1],[0]])\n",
    "X1 = np.matmul(P,X0)\n",
    "\n",
    "print(f'Sum of columns of P: {sum(P)}')\n",
    "print(f'X1:\\n{X1}')"
   ]
  },
  {
   "cell_type": "code",
   "execution_count": 13,
   "id": "65bf0c46-6bb7-42d5-8057-c1e2c422d119",
   "metadata": {},
   "outputs": [
    {
     "name": "stdout",
     "output_type": "stream",
     "text": [
      "[[0.39392366]\n",
      " [0.13392366]\n",
      " [0.11407667]\n",
      " [0.0850993 ]\n",
      " [0.27297672]]\n"
     ]
    }
   ],
   "source": [
    "X = np.array([[0],[0],[0],[1],[0]])\n",
    "m = 20\n",
    "\n",
    "for t in range(m):\n",
    "    X = P @ X\n",
    "    \n",
    "print(X)"
   ]
  },
  {
   "cell_type": "markdown",
   "id": "cf0234a8-6e03-4376-97d5-5583dcac0477",
   "metadata": {},
   "source": [
    "*Next action*: \n",
    "- goal is to know which pages ultimately get the most traffic. One way to do that is just apply the transformation many times. When the matrices are large (larger than 5 x 5 we have here),applying the transformation can be computationally expensive. This is where eigenvalues and eigenvectors help significantly reduce the amount of calculations\n",
    "- Begin by finding eigenvalues and eigenvectors for the previously defined matrix $P$."
   ]
  },
  {
   "cell_type": "code",
   "execution_count": 19,
   "id": "d19b6cc3-04fd-4617-868c-2d8f7d16a0db",
   "metadata": {},
   "outputs": [
    {
     "name": "stdout",
     "output_type": "stream",
     "text": [
      "Eigenvalues of P:\n",
      "[ 1.         -0.70367062  0.00539505 -0.08267227 -0.21905217]\n",
      "\n",
      "Eigenvectors of P\n",
      "[[-0.76088562 -0.81362074  0.10935376  0.14270615 -0.39408574]\n",
      " [-0.25879453  0.050269   -0.6653158   0.67528802 -0.66465044]\n",
      " [-0.2204546   0.07869601 -0.29090665  0.17007443  0.35048734]\n",
      " [-0.1644783   0.12446953  0.19740707 -0.43678067  0.23311487]\n",
      " [-0.52766004  0.56018621  0.64946163 -0.55128793  0.47513398]]\n"
     ]
    }
   ],
   "source": [
    "eigenvals, eigenvecs = np.linalg.eig(P)\n",
    "print(f'Eigenvalues of P:\\n{eigenvals}\\n\\nEigenvectors of P\\n{eigenvecs}')"
   ]
  },
  {
   "cell_type": "markdown",
   "id": "ac93a39b-48dc-4905-8e9b-0e0b4bd2ef2f",
   "metadata": {},
   "source": [
    "Extract the eigenvector associated to the eigenvalue."
   ]
  },
  {
   "cell_type": "code",
   "execution_count": 21,
   "id": "50adea5e-47ec-4075-a2ed-0c5106a71143",
   "metadata": {},
   "outputs": [
    {
     "name": "stdout",
     "output_type": "stream",
     "text": [
      "Eigenvector corresponding to the eigenvalue 1:\n",
      "[[-0.76088562]\n",
      " [-0.25879453]\n",
      " [-0.2204546 ]\n",
      " [-0.1644783 ]\n",
      " [-0.52766004]]\n"
     ]
    }
   ],
   "source": [
    "X_inf = eigenvecs[:,0]\n",
    "\n",
    "print(f\"Eigenvector corresponding to the eigenvalue 1:\\n{X_inf[:,np.newaxis]}\")"
   ]
  },
  {
   "cell_type": "markdown",
   "id": "31ea66cf-9c9f-4ed4-85ad-f64950210efe",
   "metadata": {},
   "source": [
    "To verify the results, perform matrix multiplication $PX$ (multiply matrix `P` and vector `X_inf`) to check that the result will be equal to the vector $X$ (X_inf)."
   ]
  },
  {
   "cell_type": "code",
   "execution_count": 28,
   "id": "e7ab6d13-c54a-4f5e-b031-eef273dd0283",
   "metadata": {},
   "outputs": [
    {
     "name": "stdout",
     "output_type": "stream",
     "text": [
      "Original eigenvector corresponding to the eigenvalue 1:\n",
      "[-0.76088562 -0.25879453 -0.2204546  -0.1644783  -0.52766004]\n",
      "Result of multiplication:[-0.76088562 -0.25879453 -0.2204546  -0.1644783  -0.52766004]\n",
      "Check that PX=X element by element:[ True  True  True  True  True]\n"
     ]
    }
   ],
   "source": [
    "def check_eigenvector(P, X_inf):\n",
    "    X_check = np.matmul(P,X_inf)\n",
    "    return X_check\n",
    "\n",
    "X_check = check_eigenvector(P, X_inf)\n",
    "print(\"Original eigenvector corresponding to the eigenvalue 1:\\n\" + str(X_inf))\n",
    "print(\"Result of multiplication:\" + str(X_check))\n",
    "\n",
    "# Function np.isclose compares two NumPy arrays element by element, allowing for error tolerance (rtol parameter).\n",
    "print(\"Check that PX=X element by element:\" + str(np.isclose(X_inf, X_check, rtol=1e-10)))"
   ]
  },
  {
   "cell_type": "code",
   "execution_count": 30,
   "id": "7a6b6e9b-49b5-4bf1-a6d2-29eb66c271bf",
   "metadata": {},
   "outputs": [
    {
     "name": "stdout",
     "output_type": "stream",
     "text": [
      "Long-run probabilities of being at each webpage:\n",
      "[[0.39377747]\n",
      " [0.13393269]\n",
      " [0.11409081]\n",
      " [0.08512166]\n",
      " [0.27307736]]\n"
     ]
    }
   ],
   "source": [
    "X_inf = X_inf/sum(X_inf)\n",
    "print(f\"Long-run probabilities of being at each webpage:\\n{X_inf[:,np.newaxis]}\")"
   ]
  },
  {
   "cell_type": "markdown",
   "id": "4c8f3df1-8697-4bcd-9995-29914e3d9f4c",
   "metadata": {},
   "source": [
    "**Conclusion**:\n",
    "- After navigating the web for a long time, the probability that the browser is at page 1 is 0.394, of being on page 2 is 0.134, on page 3 0.114, on page 4 0.085, and finally page 5 has a probability of 0.273.\n",
    "- Therefore, page 1 is the most likely to be visited while page 4 is the least likely one."
   ]
  }
 ],
 "metadata": {
  "kernelspec": {
   "display_name": "Python 3 (ipykernel)",
   "language": "python",
   "name": "python3"
  },
  "language_info": {
   "codemirror_mode": {
    "name": "ipython",
    "version": 3
   },
   "file_extension": ".py",
   "mimetype": "text/x-python",
   "name": "python",
   "nbconvert_exporter": "python",
   "pygments_lexer": "ipython3",
   "version": "3.12.4"
  }
 },
 "nbformat": 4,
 "nbformat_minor": 5
}
